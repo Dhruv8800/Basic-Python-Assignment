{
  "nbformat": 4,
  "nbformat_minor": 0,
  "metadata": {
    "colab": {
      "provenance": []
    },
    "kernelspec": {
      "name": "python3",
      "display_name": "Python 3"
    },
    "language_info": {
      "name": "python"
    }
  },
  "cells": [
    {
      "cell_type": "markdown",
      "source": [
        "# Python Basic questions\n",
        "1. What is Python and Why it is popular\n",
        "- Python is a programming language and the reason behind it's popularity ia because it is easy to learn,simple syntax,dynamic programming language and it is widely ues in the many fields like Web development,machine learning,data science\n",
        "\n",
        "2. What is an interpreter in Python?\n",
        "- in python we can say interpretur is a tool that is used to convert source code into machine code and after that the code is compiled line by line and it is different from compiler as compiler doesn't run line by line and it is faster as compare to interpretur\n",
        "\n",
        "3. What are pre-defined keywords in Python ?\n",
        "- pre defned keywords are the words which is already defined we can say creator of the python and we can't use the as a variable like there are 36 keywords in python like if,def,for,break,continue etc.\n",
        "\n",
        "4. Can keywords be used as variable names ?\n",
        "- no we can't use keywords as variable name it will generate error\n",
        "\n",
        "5. What is mutability in Python ?\n",
        "- mutability in python means the data type which can be update after the creaton of it like list and dictionary\n",
        "\n",
        "6. Why are lists mutable, but tuples are immutable?\n",
        "- In list we use [] for the creation and in list we use parentheses () because of that the they are different\n",
        "\n",
        "7. What is the difference between “==” and “is” operators in Python\n",
        "-\"==\" is a comparion operator which is used to check both operandd is equal or not where as \"is\" is a identity operator which return true if the both object refer to same object\n",
        "\n",
        "8. What are logical operators in Python?\n",
        "- Logical operators are used to combine the multiple condition into one and return them as a TRUE or FALSE there are many types ofLogical operator like AND,OR\n",
        "AND return only of both statemnt are true\n",
        "OR return true if only one statment is true\n",
        "\n",
        "9. What is type casting in Python?\n",
        "- type casting is used to check the which type data we have for example\n",
        "a=15\n",
        "print(type(a)) by this we will get to know about the data type  of a\n",
        "there are 2 types of type casting\n",
        "a) Implicit- it is used by the interpetur like\n",
        "print(45+6.77)\n",
        "lose of data is not there\n",
        "\n",
        "b) Explicit- it is a force type casting dont by thr user.for ex\n",
        "a=67\n",
        "b=float(67)\n",
        "chance of lose of data\n",
        "\n",
        "10. What is the difference between implicit and explicit type castinng ?\n",
        "- SAME AS ANSWER 9\n",
        "type casting is used to check the which type data we have for example\n",
        "a=15\n",
        "print(type(a)) by this we will get to know about the data type  of a\n",
        "there are 2 types of type casting\n",
        "a) Implicit- it is used by the interpetur like\n",
        "print(45+6.77)\n",
        "lose of data is not there\n",
        "\n",
        "b) Explicit- it is a force type casting dont by thr user.for ex\n",
        "a=67\n",
        "b=float(67)\n",
        "chance of lose of data\n",
        "\n",
        "11. What is the purpose of conditional statements in Python?\n",
        "- The conditional statement is used when we have different choices for example\n",
        "if the weather then i will go out.\n",
        "here going out is depand on weather\n",
        "there are different types of conditional statement\n",
        "if\n",
        "elif\n",
        "else\n",
        "\n",
        "12. How does the elif statement work ?\n",
        "in the code if   \"if\" block is false then elif block will execute for ex\n",
        "age=12\n",
        "if age==10:\n",
        "  print(\"hi\")\n",
        "elif age==12:\n",
        "  print(\"hello\")\n",
        "else:\n",
        "  print(\"bye\")\n",
        "\n",
        "\n",
        "in conditional statement elif block will work if if block is false and there can be any number of elif block and  else block is default it will execute if the other block is false\n",
        "\n",
        "13. What is the difference between for and while loops ?\n",
        "- For loop is used to execute unit n number of sequence whereas while loop is execute unit the condition met\n",
        "\n",
        "14. Describe a scenario where a while loop is more suitable than a for loop.\n",
        "- while loop will be the best in scenario in which we dont have iteration predetermined and depand on some dynamic condition\n"
      ],
      "metadata": {
        "id": "X1mL069CwHEx"
      }
    },
    {
      "cell_type": "code",
      "execution_count": 2,
      "metadata": {
        "colab": {
          "base_uri": "https://localhost:8080/"
        },
        "id": "sPEDMeLUuThM",
        "outputId": "7fc2a3fd-3750-4949-f8b9-097a88fae2d8"
      },
      "outputs": [
        {
          "output_type": "stream",
          "name": "stdout",
          "text": [
            "Hello, World!\n"
          ]
        }
      ],
      "source": [
        "# Write a Python program to print \"Hello, World!\n",
        "print(\"Hello, World!\")"
      ]
    },
    {
      "cell_type": "code",
      "source": [
        "# Write a Python program that displays your name and age\n",
        "name=input(\"Enter your name:\")\n",
        "age=int(input(\"Enter age:\"))\n",
        "print(name)\n",
        "print(age)"
      ],
      "metadata": {
        "colab": {
          "base_uri": "https://localhost:8080/"
        },
        "id": "xbF7eh0eCUMz",
        "outputId": "c58ca717-dd5b-412f-fd1e-29350a7f9808"
      },
      "execution_count": 4,
      "outputs": [
        {
          "output_type": "stream",
          "name": "stdout",
          "text": [
            "Enter your name:dhruv\n",
            "Enter age:19\n",
            "dhruv\n",
            "19\n"
          ]
        }
      ]
    },
    {
      "cell_type": "code",
      "source": [
        "# Write code to print all the pre-defined keywords in Python using the keyword library\n",
        "import keyword\n",
        "print(keyword.kwlist)"
      ],
      "metadata": {
        "colab": {
          "base_uri": "https://localhost:8080/"
        },
        "id": "a_9kRZ2pDoUt",
        "outputId": "318bfffb-4a8a-4c49-dd70-62cf97690149"
      },
      "execution_count": 5,
      "outputs": [
        {
          "output_type": "stream",
          "name": "stdout",
          "text": [
            "['False', 'None', 'True', 'and', 'as', 'assert', 'async', 'await', 'break', 'class', 'continue', 'def', 'del', 'elif', 'else', 'except', 'finally', 'for', 'from', 'global', 'if', 'import', 'in', 'is', 'lambda', 'nonlocal', 'not', 'or', 'pass', 'raise', 'return', 'try', 'while', 'with', 'yield']\n"
          ]
        }
      ]
    },
    {
      "cell_type": "code",
      "source": [
        "# Write a program that checks if a given word is a Python keyword\n",
        "import keyword\n",
        "key=input(\"Enter key\")\n",
        "if key in keyword.kwlist:\n",
        "  print(\"It is a keyword\")\n",
        "else:\n",
        "  print(\"Not a keyword\")"
      ],
      "metadata": {
        "colab": {
          "base_uri": "https://localhost:8080/"
        },
        "id": "WZe7fdLAEEPi",
        "outputId": "74f3616e-9efd-40e9-9718-22ac5933213e"
      },
      "execution_count": 6,
      "outputs": [
        {
          "output_type": "stream",
          "name": "stdout",
          "text": [
            "Enter keyif\n",
            "It is a keyword\n"
          ]
        }
      ]
    },
    {
      "cell_type": "markdown",
      "source": [],
      "metadata": {
        "id": "eD-RbT2Xv0by"
      }
    },
    {
      "cell_type": "code",
      "source": [
        "# . Create a list and tuple in Python, and demonstrate how attempting to change an element works differently for each.\n",
        "print(\"Ist before update\")\n",
        "l1=[1,2,3,4,5]\n",
        "print(l1)\n",
        "l1[0]=100\n",
        "print(\"After update\")\n",
        "print(l1)\n",
        "\n",
        "t1=(4,5,6,7)\n",
        "print(\"Before update tuple is \")\n",
        "print(t1)\n",
        "t1[0]=45\n",
        "print(\"after update\")\n",
        "print(t1)\n",
        "# here tuple is immutable error generated"
      ],
      "metadata": {
        "colab": {
          "base_uri": "https://localhost:8080/",
          "height": 315
        },
        "id": "7Qb1Aj-CEnKH",
        "outputId": "374fac6d-97d4-411f-e577-0f8a9a14ae86"
      },
      "execution_count": 8,
      "outputs": [
        {
          "output_type": "stream",
          "name": "stdout",
          "text": [
            "Ist before update\n",
            "[1, 2, 3, 4, 5]\n",
            "After update\n",
            "[100, 2, 3, 4, 5]\n",
            "Before update tuple is \n",
            "(4, 5, 6, 7)\n"
          ]
        },
        {
          "output_type": "error",
          "ename": "TypeError",
          "evalue": "'tuple' object does not support item assignment",
          "traceback": [
            "\u001b[0;31m---------------------------------------------------------------------------\u001b[0m",
            "\u001b[0;31mTypeError\u001b[0m                                 Traceback (most recent call last)",
            "\u001b[0;32m<ipython-input-8-df2b2b09149e>\u001b[0m in \u001b[0;36m<cell line: 0>\u001b[0;34m()\u001b[0m\n\u001b[1;32m     10\u001b[0m \u001b[0mprint\u001b[0m\u001b[0;34m(\u001b[0m\u001b[0;34m\"Before update tuple is \"\u001b[0m\u001b[0;34m)\u001b[0m\u001b[0;34m\u001b[0m\u001b[0;34m\u001b[0m\u001b[0m\n\u001b[1;32m     11\u001b[0m \u001b[0mprint\u001b[0m\u001b[0;34m(\u001b[0m\u001b[0mt1\u001b[0m\u001b[0;34m)\u001b[0m\u001b[0;34m\u001b[0m\u001b[0;34m\u001b[0m\u001b[0m\n\u001b[0;32m---> 12\u001b[0;31m \u001b[0mt1\u001b[0m\u001b[0;34m[\u001b[0m\u001b[0;36m0\u001b[0m\u001b[0;34m]\u001b[0m\u001b[0;34m=\u001b[0m\u001b[0;36m45\u001b[0m\u001b[0;34m\u001b[0m\u001b[0;34m\u001b[0m\u001b[0m\n\u001b[0m\u001b[1;32m     13\u001b[0m \u001b[0mprint\u001b[0m\u001b[0;34m(\u001b[0m\u001b[0;34m\"after update\"\u001b[0m\u001b[0;34m)\u001b[0m\u001b[0;34m\u001b[0m\u001b[0;34m\u001b[0m\u001b[0m\n\u001b[1;32m     14\u001b[0m \u001b[0mprint\u001b[0m\u001b[0;34m(\u001b[0m\u001b[0mt1\u001b[0m\u001b[0;34m)\u001b[0m\u001b[0;34m\u001b[0m\u001b[0;34m\u001b[0m\u001b[0m\n",
            "\u001b[0;31mTypeError\u001b[0m: 'tuple' object does not support item assignment"
          ]
        }
      ]
    },
    {
      "cell_type": "markdown",
      "source": [],
      "metadata": {
        "id": "F_P5uhFaGPrE"
      }
    },
    {
      "cell_type": "code",
      "source": [
        "#  Write a function to demonstrate the behavior of mutable and immutable arguments\n",
        "print(\" before update\")\n",
        "l1=[1,2,3,4,5]\n",
        "print(l1)\n",
        "l1[0]=100\n",
        "print(\"After update\")\n",
        "print(l1)\n",
        "\n",
        "t1=(4,5,6,7)\n",
        "print(\"Before update tuple is \")\n",
        "print(t1)\n",
        "t1[0]=45\n",
        "print(\"after update\")\n",
        "print(t1)\n",
        "\n",
        "name=\"dhruv\"\n",
        "name[0]=z\n",
        "print(name)"
      ],
      "metadata": {
        "colab": {
          "base_uri": "https://localhost:8080/",
          "height": 315
        },
        "id": "t-5pUK7SF2xN",
        "outputId": "84036965-cfd0-4185-ec03-7a28a5a1ebd8"
      },
      "execution_count": 9,
      "outputs": [
        {
          "output_type": "stream",
          "name": "stdout",
          "text": [
            " before update\n",
            "[1, 2, 3, 4, 5]\n",
            "After update\n",
            "[100, 2, 3, 4, 5]\n",
            "Before update tuple is \n",
            "(4, 5, 6, 7)\n"
          ]
        },
        {
          "output_type": "error",
          "ename": "TypeError",
          "evalue": "'tuple' object does not support item assignment",
          "traceback": [
            "\u001b[0;31m---------------------------------------------------------------------------\u001b[0m",
            "\u001b[0;31mTypeError\u001b[0m                                 Traceback (most recent call last)",
            "\u001b[0;32m<ipython-input-9-4ff7652eacac>\u001b[0m in \u001b[0;36m<cell line: 0>\u001b[0;34m()\u001b[0m\n\u001b[1;32m     10\u001b[0m \u001b[0mprint\u001b[0m\u001b[0;34m(\u001b[0m\u001b[0;34m\"Before update tuple is \"\u001b[0m\u001b[0;34m)\u001b[0m\u001b[0;34m\u001b[0m\u001b[0;34m\u001b[0m\u001b[0m\n\u001b[1;32m     11\u001b[0m \u001b[0mprint\u001b[0m\u001b[0;34m(\u001b[0m\u001b[0mt1\u001b[0m\u001b[0;34m)\u001b[0m\u001b[0;34m\u001b[0m\u001b[0;34m\u001b[0m\u001b[0m\n\u001b[0;32m---> 12\u001b[0;31m \u001b[0mt1\u001b[0m\u001b[0;34m[\u001b[0m\u001b[0;36m0\u001b[0m\u001b[0;34m]\u001b[0m\u001b[0;34m=\u001b[0m\u001b[0;36m45\u001b[0m\u001b[0;34m\u001b[0m\u001b[0;34m\u001b[0m\u001b[0m\n\u001b[0m\u001b[1;32m     13\u001b[0m \u001b[0mprint\u001b[0m\u001b[0;34m(\u001b[0m\u001b[0;34m\"after update\"\u001b[0m\u001b[0;34m)\u001b[0m\u001b[0;34m\u001b[0m\u001b[0;34m\u001b[0m\u001b[0m\n\u001b[1;32m     14\u001b[0m \u001b[0mprint\u001b[0m\u001b[0;34m(\u001b[0m\u001b[0mt1\u001b[0m\u001b[0;34m)\u001b[0m\u001b[0;34m\u001b[0m\u001b[0;34m\u001b[0m\u001b[0m\n",
            "\u001b[0;31mTypeError\u001b[0m: 'tuple' object does not support item assignment"
          ]
        }
      ]
    },
    {
      "cell_type": "code",
      "source": [
        "#  Write a program that performs basic arithmetic operations on two user-input numbers.\n",
        "a=int(input(\"Enter number:\"))\n",
        "b=int(input(\"Enter number:\"))\n",
        "print(\"Addition\",a+b)\n",
        "print(\"Subtraction\",a-b)\n",
        "print(\"Multiplication\",a*b)\n",
        "print(\"Division\",a/b)\n",
        "print(\"Modulo\",a%b)"
      ],
      "metadata": {
        "colab": {
          "base_uri": "https://localhost:8080/"
        },
        "id": "aXSfXjYDH-9V",
        "outputId": "17d229a8-4417-4b83-a85b-b522c438d2cd"
      },
      "execution_count": 11,
      "outputs": [
        {
          "output_type": "stream",
          "name": "stdout",
          "text": [
            "Enter number:16\n",
            "Enter number:4\n",
            "Addition 20\n",
            "Subtraction 12\n",
            "Multiplication 64\n",
            "Division 4.0\n",
            "Modulo 0\n"
          ]
        }
      ]
    },
    {
      "cell_type": "code",
      "source": [
        "# Write a program to demonstrate the use of logical operators.\n",
        "\n",
        "# AND LOGICAL OPERATOR\n",
        "if (12==12) and (15==15):\n",
        "  print(\"True\")\n",
        "else:\n",
        "  print(\"false\")\n",
        "\n",
        "# OR LOGICAL OPERATOR\n",
        "if (12==12) or (15==5):\n",
        "  print(\"True\")\n",
        "else:\n",
        "  print(\"false\")"
      ],
      "metadata": {
        "colab": {
          "base_uri": "https://localhost:8080/"
        },
        "id": "klqquBn4IlV4",
        "outputId": "0b6d6243-6ca1-4fd7-e0e6-a7ec7cc806ac"
      },
      "execution_count": 12,
      "outputs": [
        {
          "output_type": "stream",
          "name": "stdout",
          "text": [
            "True\n",
            "True\n"
          ]
        }
      ]
    },
    {
      "cell_type": "code",
      "source": [
        "#  Write a Python program to convert user input from string to integer, float, and boolean types\n",
        "h=\"123\"\n",
        "integer=int(h)\n",
        "float_=float(h)\n",
        "boolean=bool(h)\n",
        "print(integer)\n",
        "print(float_)\n",
        "print(boolean)"
      ],
      "metadata": {
        "colab": {
          "base_uri": "https://localhost:8080/"
        },
        "id": "KMwPZRl3JJCp",
        "outputId": "8713d26a-aff6-4145-acfd-84aaac117a17"
      },
      "execution_count": 14,
      "outputs": [
        {
          "output_type": "stream",
          "name": "stdout",
          "text": [
            "123\n",
            "123.0\n",
            "True\n"
          ]
        }
      ]
    },
    {
      "cell_type": "code",
      "source": [
        "#  Write code to demonstrate type casting with list elements.\n"
      ],
      "metadata": {
        "id": "d0D3vEpOKNk0"
      },
      "execution_count": null,
      "outputs": []
    },
    {
      "cell_type": "code",
      "source": [
        "# Write a program that checks if a number is positive, negative, or zero.\n",
        "num=int(input(\"Enter number:\"))\n",
        "if num>0:\n",
        "  print(\"positive\")\n",
        "elif num==0:\n",
        "  print(\"Zero\")\n",
        "else:\n",
        "  print(\"negative\")"
      ],
      "metadata": {
        "colab": {
          "base_uri": "https://localhost:8080/"
        },
        "id": "HqzMCKyJK34B",
        "outputId": "29fd7100-2212-4b8b-9a39-00ef9769ea40"
      },
      "execution_count": 16,
      "outputs": [
        {
          "output_type": "stream",
          "name": "stdout",
          "text": [
            "Enter number:12\n",
            "positive\n"
          ]
        }
      ]
    },
    {
      "cell_type": "code",
      "source": [
        "# Write a for loop to print numbers from 1 to 10\n",
        "for i in range(1,11):\n",
        "    print(i)"
      ],
      "metadata": {
        "id": "-foFnzy8LQ--"
      },
      "execution_count": null,
      "outputs": []
    },
    {
      "cell_type": "code",
      "source": [
        "#  Write a Python program to find the sum of all even numbers between 1 and 50\n",
        "sum=0\n",
        "for i in range(0,51,2):\n",
        "  sum=sum+i\n",
        "print(sum)"
      ],
      "metadata": {
        "colab": {
          "base_uri": "https://localhost:8080/"
        },
        "id": "tTyqI6CHO9tR",
        "outputId": "c3470024-e8fa-4506-a3ba-3ed181d2e569"
      },
      "execution_count": 17,
      "outputs": [
        {
          "output_type": "stream",
          "name": "stdout",
          "text": [
            "650\n"
          ]
        }
      ]
    },
    {
      "cell_type": "code",
      "source": [
        "#  Write a program to reverse a string using a while loop."
      ],
      "metadata": {
        "id": "SANqP4oaQUzk"
      },
      "execution_count": null,
      "outputs": []
    },
    {
      "cell_type": "code",
      "source": [
        "#  Write a Python program to calculate the factorial of a number provided by the user using a while loop\n",
        "a=5\n",
        "fact=1\n",
        "while(a>0):\n",
        "    fact=fact*a\n",
        "    a=a-1\n",
        "print(fact)"
      ],
      "metadata": {
        "colab": {
          "base_uri": "https://localhost:8080/"
        },
        "id": "X7j1XQT1QWNz",
        "outputId": "27dab3a9-848a-4682-f7e9-b6e4760a6d18"
      },
      "execution_count": 18,
      "outputs": [
        {
          "output_type": "stream",
          "name": "stdout",
          "text": [
            "120\n"
          ]
        }
      ]
    }
  ]
}